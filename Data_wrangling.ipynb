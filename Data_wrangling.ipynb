{
 "cells": [
  {
   "attachments": {},
   "cell_type": "markdown",
   "metadata": {},
   "source": [
    "# SDR data processing\n",
    "\n",
    "## Library import"
   ]
  },
  {
   "cell_type": "code",
   "execution_count": 19,
   "metadata": {},
   "outputs": [],
   "source": [
    "import pandas\n",
    "import numpy\n",
    "from pathlib import Path\n",
    "from collections import defaultdict"
   ]
  },
  {
   "attachments": {},
   "cell_type": "markdown",
   "metadata": {},
   "source": [
    "## Data import\n",
    "\n",
    "We first import the data. Put in the dataset path into `dataset_path` variable."
   ]
  },
  {
   "cell_type": "code",
   "execution_count": 2,
   "metadata": {},
   "outputs": [],
   "source": [
    "dataset_path = Path(r\"C:\\Users\\GOIYF\\OneDrive - Bayer\\Personal Data\\RiskHunt3R\\SDR_HuSa_dashboard - hypertrophy.csv\")"
   ]
  },
  {
   "cell_type": "code",
   "execution_count": 5,
   "metadata": {},
   "outputs": [
    {
     "data": {
      "text/plain": [
       "'C:\\\\Users\\\\GOIYF\\\\OneDrive - Bayer\\\\Personal Data\\\\RiskHunt3R\\\\SDR_HuSa_dashboard - hypertrophy.csv'"
      ]
     },
     "execution_count": 5,
     "metadata": {},
     "output_type": "execute_result"
    }
   ],
   "source": [
    "str(dataset_path)"
   ]
  },
  {
   "cell_type": "code",
   "execution_count": 7,
   "metadata": {},
   "outputs": [],
   "source": [
    "data = pandas.read_csv(dataset_path, header=None)"
   ]
  },
  {
   "attachments": {},
   "cell_type": "markdown",
   "metadata": {},
   "source": [
    "## Extraction of observation metadata\n",
    "\n",
    "This assumes the observation metadata is collected in the first three rows. It starts by taking the third row, in which the dose and compound data is stored. THen it adds the first row to it, as it assumes that contains the sex of the animal.\n",
    "\n",
    "**Note:** we take here and below in the data section the columns 8::2 (so every second column from the 8th one on); this means we focus on only the percentage of the affected animals, and not the absolute numbers. If you wish to extract different values, change this value here and below."
   ]
  },
  {
   "cell_type": "code",
   "execution_count": 8,
   "metadata": {},
   "outputs": [],
   "source": [
    "metadata = pandas.DataFrame([[x[0], x[1], \" \".join(x[2:])] for x in data.loc[2, 8::2].str.split(\" \")], columns=(\"Dose\", \"Unit\", \"Compound\"))"
   ]
  },
  {
   "attachments": {},
   "cell_type": "markdown",
   "metadata": {},
   "source": [
    "In a perfect world all the entries would have a general structure `dose unit compound`. This is not the case.\n",
    "\n",
    "In the cases where we have weird formatting we follow up with the following assumptions:\n",
    "- if we split by `;` the last entry will be the compound name\n",
    "- the unit is included in the string and is either `mg/kg`, `ug/kg`, `PPM`, or `ppm`\n",
    "- where the strings contain `;` this is also a delimiter for the dose, and is thus contained also in that column"
   ]
  },
  {
   "cell_type": "code",
   "execution_count": 9,
   "metadata": {},
   "outputs": [],
   "source": [
    "indices = numpy.where(~metadata.loc[:,\"Unit\"].isin((\"mg/kg\", \"PPM\", \"ppm\")))[0]\n",
    "for i in indices:\n",
    "    cpd_txt = metadata.loc[i, \"Compound\"]\n",
    "    cpd = cpd_txt.split(\";\")[-1]\n",
    "    \n",
    "    if \"mg/kg\" in cpd_txt:\n",
    "        unit = 'mg/kg'\n",
    "    elif \"ug/kg\" in cpd_txt:\n",
    "        unit = \"ug/kg\"\n",
    "    elif \"PPM\" in cpd_txt or \"ppm\" in cpd_txt:\n",
    "        unit = \"PPM\"\n",
    "    else:\n",
    "        unit = \"\"\n",
    "    \n",
    "    metadata.at[i, \"Compound\"] = cpd\n",
    "    if unit:\n",
    "        metadata.at[i, \"Unit\"] = unit\n",
    "    \n",
    "    if metadata.loc[i, \"Dose\"]:\n",
    "        metadata.at[i, \"Dose\"] = metadata.loc[i, \"Dose\"].split(\";\")[0]\n"
   ]
  },
  {
   "attachments": {},
   "cell_type": "markdown",
   "metadata": {},
   "source": [
    "As stated above, in the last step we add the information on the sex. Here the observed values are `M`, `F`, `Male` and `Female`. We convert the last two into their single letter counterpart."
   ]
  },
  {
   "cell_type": "code",
   "execution_count": 10,
   "metadata": {},
   "outputs": [],
   "source": [
    "metadata[\"Sex\"] = data.loc[0, 8::2].tolist()\n",
    "metadata[\"Sex\"] = metadata[\"Sex\"].str[0]"
   ]
  },
  {
   "attachments": {},
   "cell_type": "markdown",
   "metadata": {},
   "source": [
    "## Extraction of study metadata\n",
    "\n",
    "Additional metadata on the study performed is collected in the first 5 columns of the data matrix. We take these into a `study_metadata` object."
   ]
  },
  {
   "cell_type": "code",
   "execution_count": 11,
   "metadata": {},
   "outputs": [],
   "source": [
    "study_metadata = data.loc[4:, :4]\n",
    "study_metadata.columns = data.loc[3, :4].tolist()"
   ]
  },
  {
   "attachments": {},
   "cell_type": "markdown",
   "metadata": {},
   "source": [
    "## Extraction of data matrix\n",
    "\n",
    "As above, we take only every second column from the 8th on. Next, we make sure that column names are the same as the indices in the `metadata` so we can have an easy referencing."
   ]
  },
  {
   "cell_type": "code",
   "execution_count": 12,
   "metadata": {},
   "outputs": [],
   "source": [
    "subdata = data.loc[4:, 8::2]\n",
    "subdata.columns = metadata.index"
   ]
  },
  {
   "attachments": {},
   "cell_type": "markdown",
   "metadata": {},
   "source": [
    "## Processing the data\n",
    "In this next cell we go through every row in the study metadata. In the data matrix we check then every column that has a value (as there can be multiple values available per study). We aggregate the values from all three DataFrames into a single list of lists, which is then transformed into a DataFrame."
   ]
  },
  {
   "cell_type": "code",
   "execution_count": 13,
   "metadata": {},
   "outputs": [],
   "source": [
    "final_data = [(\"Compound\", \"Study ID\", \"Phase Name\", \"Result Raw\", \"Dose\", \"Dose-unit\", \"Sex\", \"Severity\", \"Affected\")]\n",
    "for i in study_metadata.index:\n",
    "    for j in subdata.loc[i, ~subdata.loc[i].isna()].index:\n",
    "        final_data.append([\n",
    "            metadata.loc[j, \"Compound\"],\n",
    "            study_metadata.loc[i, \"study_id\"],\n",
    "            study_metadata.loc[i, \"phase_name\"],\n",
    "            study_metadata.loc[i, \"result_raw\"],\n",
    "            metadata.loc[j, \"Dose\"],\n",
    "            metadata.loc[j, \"Unit\"],\n",
    "            metadata.loc[j, \"Sex\"],\n",
    "            study_metadata.loc[i, \"severity\"],\n",
    "            subdata.loc[i, j]\n",
    "        ])"
   ]
  },
  {
   "cell_type": "code",
   "execution_count": 14,
   "metadata": {},
   "outputs": [],
   "source": [
    "processed_data = pandas.DataFrame(final_data[1:], columns=final_data[0])"
   ]
  },
  {
   "attachments": {},
   "cell_type": "markdown",
   "metadata": {},
   "source": [
    "## Data cleanup\n",
    "\n",
    "We strip the trailing whitespaces, regularize the compound and study names (by substituting spaces for `-` and using all capital letters)."
   ]
  },
  {
   "cell_type": "code",
   "execution_count": 70,
   "metadata": {},
   "outputs": [],
   "source": [
    "processed_data[\"Compound\"] = processed_data[\"Compound\"].str.upper().str.replace(\" \", \"\").str.replace(r'([A-Z]+)', r'\\1-', regex=True)\n",
    "processed_data[\"Study ID\"] = processed_data[\"Study ID\"].str.upper().str.replace(\" \", \"\").str.replace(r'([A-Z]+)', r'\\1-', regex=True)"
   ]
  },
  {
   "cell_type": "code",
   "execution_count": 88,
   "metadata": {},
   "outputs": [],
   "source": [
    "processed_data[\"Phase Name\"] = processed_data[\"Phase Name\"].str.strip()\n",
    "processed_data[\"Result Raw\"] = processed_data[\"Result Raw\"].str.strip()\n",
    "processed_data[\"Dose\"] = processed_data[\"Dose\"].str.strip()"
   ]
  },
  {
   "cell_type": "code",
   "execution_count": 89,
   "metadata": {},
   "outputs": [],
   "source": [
    "subset = processed_data.loc[(processed_data[\"Compound\"] == \"AE-0014793\")&(processed_data[\"Study ID\"] == \"SA-00047\")&(processed_data[\"Result Raw\"] == \"Hepatocellular hypertrophy, panlobular, diffuse\")&(processed_data[\"Dose\"] == \"5000\")]"
   ]
  },
  {
   "cell_type": "code",
   "execution_count": 90,
   "metadata": {},
   "outputs": [
    {
     "data": {
      "text/html": [
       "<div>\n",
       "<style scoped>\n",
       "    .dataframe tbody tr th:only-of-type {\n",
       "        vertical-align: middle;\n",
       "    }\n",
       "\n",
       "    .dataframe tbody tr th {\n",
       "        vertical-align: top;\n",
       "    }\n",
       "\n",
       "    .dataframe thead th {\n",
       "        text-align: right;\n",
       "    }\n",
       "</style>\n",
       "<table border=\"1\" class=\"dataframe\">\n",
       "  <thead>\n",
       "    <tr style=\"text-align: right;\">\n",
       "      <th></th>\n",
       "      <th>Compound</th>\n",
       "      <th>Study ID</th>\n",
       "      <th>Phase Name</th>\n",
       "      <th>Result Raw</th>\n",
       "      <th>Dose</th>\n",
       "      <th>Dose-unit</th>\n",
       "      <th>Sex</th>\n",
       "      <th>Severity</th>\n",
       "      <th>Affected</th>\n",
       "    </tr>\n",
       "  </thead>\n",
       "  <tbody>\n",
       "    <tr>\n",
       "      <th>0</th>\n",
       "      <td>AE-0014793</td>\n",
       "      <td>SA-00047</td>\n",
       "      <td>Dosing phase</td>\n",
       "      <td>Hepatocellular hypertrophy, panlobular, diffuse</td>\n",
       "      <td>5000</td>\n",
       "      <td>PPM</td>\n",
       "      <td>F</td>\n",
       "      <td>Slight</td>\n",
       "      <td>30%</td>\n",
       "    </tr>\n",
       "  </tbody>\n",
       "</table>\n",
       "</div>"
      ],
      "text/plain": [
       "     Compound  Study ID    Phase Name  \\\n",
       "0  AE-0014793  SA-00047  Dosing phase   \n",
       "\n",
       "                                        Result Raw  Dose Dose-unit Sex  \\\n",
       "0  Hepatocellular hypertrophy, panlobular, diffuse  5000       PPM   F   \n",
       "\n",
       "  Severity Affected  \n",
       "0   Slight      30%  "
      ]
     },
     "execution_count": 90,
     "metadata": {},
     "output_type": "execute_result"
    }
   ],
   "source": [
    "subset"
   ]
  },
  {
   "cell_type": "code",
   "execution_count": 44,
   "metadata": {},
   "outputs": [
    {
     "data": {
      "text/plain": [
       "array([' AE 0014793', ' AE0014793', 'AE 0013604', 'RPA 420678',\n",
       "       'AE C654097', 'AE 0327873', ' AE C638206', 'PHENMEDIPHAM',\n",
       "       ' ACLONIFEN', ' AE 0317309', 'AE 0317670', 'AE 0000623',\n",
       "       ' AE 0173473', 'AE 0172747', ' AE 0541177', 'AE F051327',\n",
       "       ' OXADIAZON', ' ethiprole', ' AE0173473', 'AE C632847',\n",
       "       ' Oxadiargyl', 'Control', 'BCS-AM71463', 'BCS-AI41561',\n",
       "       'AE R808135', 'AE 1371906', 'BCS-AR83685', ' AE C656948',\n",
       "       ' BYF 00587', 'BYF 14182', 'AE 1417268', 'AMSI 0334', 'BYI 09110',\n",
       "       ' AE 1380970', ' OXADIARGYL', 'AE 0553834', 'AE 1379584',\n",
       "       'BYI 02290', 'NNI-0001 RFA', 'AE 0852999', 'BYI 02960',\n",
       "       'AE 1801454', 'BYI 04680', 'BCS-AA10091', ' AE1380970',\n",
       "       'AE 1980675', 'BCS-AA10043', 'DICLOFOP', 'CLOFIBRIC',\n",
       "       'BCS-AA10579', 'BCS-AA10233', ' AEC 656948', ' AE 1887196',\n",
       "       'BCS-AA10476', 'BCS-AA10751', ' AE1887196', 'BCS AA10312',\n",
       "       'BCS-BR22345', 'BCS-CN18250', 'BCS-CN45153', 'AE 1887196',\n",
       "       ' FLUOPYRAM', 'metribuzin', 'BCS-CL73507', 'BCS-CN88460',\n",
       "       'BCS-CQ65686', 'Phenobarbital', 'BCS-CO63915', 'BCS-CQ15880',\n",
       "       'Fluopyram', 'BCS-CS38330', 'BCS-CS55621', 'Penflufen',\n",
       "       'BCS-CM87174', '', 'BCS-AA10730', 'Thiacloprid', 'Methimazole',\n",
       "       'Iprodione', 'Amitrole', 'Lithium carbonate', 'BCS-CT24720',\n",
       "       'BCS-CT12839', 'BCS-CU99547', 'BCS-AA10097', 'BCS-CY49534',\n",
       "       'BCS-CT10115', 'BCS-CR75391', 'BCS-CM42385', 'BCS-CY68986',\n",
       "       'BCS-CY67978', 'BCS-CM22679', 'BCS-CY39089', 'BCS-CR20753',\n",
       "       'BCS-CY30312', 'BCS-AC94811', 'BCS-CW64991', 'BCS-CN45136',\n",
       "       'BCS-DA83999', 'BCS-CY87250', 'BCS-CZ49198', 'BCS-CX11273',\n",
       "       'BCS-CY64711', 'BCS-CY50747', 'BCS-DA50551', 'BCS-CW50693',\n",
       "       'BCS-CZ97238', 'BCS-DC14831', 'BCS-CZ99377', 'BCS-CY98970',\n",
       "       'BCS-DA44293', 'BCS-DA45638', 'BCS-DA50065', 'BCS-AA10717',\n",
       "       'BCS-CZ81848', 'BCS-DA86611', 'BCS-DC17741', 'BCS-DE56606',\n",
       "       'BCS-CZ37679', 'BCS-CW87350', 'RPA 412618', 'RPA 212949',\n",
       "       'IPRODIONE', ' CARBARYL', ' RPA 107382', 'BCS-AF83637',\n",
       "       'RPA 115369', 'RPA 112917', 'RPA 112916', 'RPA 114345'],\n",
       "      dtype=object)"
      ]
     },
     "execution_count": 44,
     "metadata": {},
     "output_type": "execute_result"
    }
   ],
   "source": [
    "processed_data[\"Compound\"].unique()"
   ]
  },
  {
   "cell_type": "code",
   "execution_count": 41,
   "metadata": {},
   "outputs": [
    {
     "data": {
      "text/html": [
       "<div>\n",
       "<style scoped>\n",
       "    .dataframe tbody tr th:only-of-type {\n",
       "        vertical-align: middle;\n",
       "    }\n",
       "\n",
       "    .dataframe tbody tr th {\n",
       "        vertical-align: top;\n",
       "    }\n",
       "\n",
       "    .dataframe thead th {\n",
       "        text-align: right;\n",
       "    }\n",
       "</style>\n",
       "<table border=\"1\" class=\"dataframe\">\n",
       "  <thead>\n",
       "    <tr style=\"text-align: right;\">\n",
       "      <th></th>\n",
       "      <th>Compound</th>\n",
       "      <th>Study ID</th>\n",
       "      <th>Phase Name</th>\n",
       "      <th>Result Raw</th>\n",
       "      <th>Dose</th>\n",
       "      <th>Dose-unit</th>\n",
       "      <th>Sex</th>\n",
       "      <th>Severity</th>\n",
       "      <th>Affected</th>\n",
       "    </tr>\n",
       "  </thead>\n",
       "  <tbody>\n",
       "  </tbody>\n",
       "</table>\n",
       "</div>"
      ],
      "text/plain": [
       "Empty DataFrame\n",
       "Columns: [Compound, Study ID, Phase Name, Result Raw, Dose, Dose-unit, Sex, Severity, Affected]\n",
       "Index: []"
      ]
     },
     "execution_count": 41,
     "metadata": {},
     "output_type": "execute_result"
    }
   ],
   "source": [
    "subset"
   ]
  },
  {
   "cell_type": "code",
   "execution_count": 21,
   "metadata": {},
   "outputs": [
    {
     "ename": "NameError",
     "evalue": "name 'processe' is not defined",
     "output_type": "error",
     "traceback": [
      "\u001b[1;31m---------------------------------------------------------------------------\u001b[0m",
      "\u001b[1;31mNameError\u001b[0m                                 Traceback (most recent call last)",
      "\u001b[1;32m~\\AppData\\Local\\Temp\\ipykernel_37592\\2453606455.py\u001b[0m in \u001b[0;36m<module>\u001b[1;34m\u001b[0m\n\u001b[0;32m      7\u001b[0m             \u001b[1;32mfor\u001b[0m \u001b[0mdose\u001b[0m \u001b[1;32min\u001b[0m \u001b[0mprocessed_data\u001b[0m\u001b[1;33m.\u001b[0m\u001b[0mloc\u001b[0m\u001b[1;33m[\u001b[0m\u001b[1;33m(\u001b[0m\u001b[0mprocessed_data\u001b[0m\u001b[1;33m[\u001b[0m\u001b[1;34m\"Compound\"\u001b[0m\u001b[1;33m]\u001b[0m \u001b[1;33m==\u001b[0m \u001b[0mcompound\u001b[0m\u001b[1;33m)\u001b[0m\u001b[1;33m&\u001b[0m\u001b[1;33m(\u001b[0m\u001b[0mprocessed_data\u001b[0m\u001b[1;33m[\u001b[0m\u001b[1;34m\"Study ID\"\u001b[0m\u001b[1;33m]\u001b[0m \u001b[1;33m==\u001b[0m \u001b[0mstudy\u001b[0m\u001b[1;33m)\u001b[0m\u001b[1;33m&\u001b[0m\u001b[1;33m(\u001b[0m\u001b[0mprocessed_data\u001b[0m\u001b[1;33m[\u001b[0m\u001b[1;34m\"Result Raw\"\u001b[0m\u001b[1;33m]\u001b[0m \u001b[1;33m==\u001b[0m \u001b[0mresult\u001b[0m\u001b[1;33m)\u001b[0m\u001b[1;33m]\u001b[0m\u001b[1;33m[\u001b[0m\u001b[1;34m\"Dose\"\u001b[0m\u001b[1;33m]\u001b[0m\u001b[1;33m.\u001b[0m\u001b[0munique\u001b[0m\u001b[1;33m(\u001b[0m\u001b[1;33m)\u001b[0m\u001b[1;33m:\u001b[0m\u001b[1;33m\u001b[0m\u001b[1;33m\u001b[0m\u001b[0m\n\u001b[0;32m      8\u001b[0m                 \u001b[0msubset\u001b[0m \u001b[1;33m=\u001b[0m \u001b[0mprocessed_data\u001b[0m\u001b[1;33m.\u001b[0m\u001b[0mloc\u001b[0m\u001b[1;33m[\u001b[0m\u001b[1;33m(\u001b[0m\u001b[0mprocessed_data\u001b[0m\u001b[1;33m[\u001b[0m\u001b[1;34m\"Compound\"\u001b[0m\u001b[1;33m]\u001b[0m \u001b[1;33m==\u001b[0m \u001b[0mcompound\u001b[0m\u001b[1;33m)\u001b[0m\u001b[1;33m&\u001b[0m\u001b[1;33m(\u001b[0m\u001b[0mprocessed_data\u001b[0m\u001b[1;33m[\u001b[0m\u001b[1;34m\"Study ID\"\u001b[0m\u001b[1;33m]\u001b[0m \u001b[1;33m==\u001b[0m \u001b[0mstudy\u001b[0m\u001b[1;33m)\u001b[0m\u001b[1;33m&\u001b[0m\u001b[1;33m(\u001b[0m\u001b[0mprocessed_data\u001b[0m\u001b[1;33m[\u001b[0m\u001b[1;34m\"Result Raw\"\u001b[0m\u001b[1;33m]\u001b[0m \u001b[1;33m==\u001b[0m \u001b[0mresult\u001b[0m\u001b[1;33m)\u001b[0m\u001b[1;33m&\u001b[0m\u001b[1;33m(\u001b[0m\u001b[0mprocessed_data\u001b[0m\u001b[1;33m[\u001b[0m\u001b[1;34m\"Dose\"\u001b[0m\u001b[1;33m]\u001b[0m \u001b[1;33m==\u001b[0m \u001b[0mdose\u001b[0m\u001b[1;33m)\u001b[0m\u001b[1;33m]\u001b[0m\u001b[1;33m\u001b[0m\u001b[1;33m\u001b[0m\u001b[0m\n\u001b[1;32m----> 9\u001b[1;33m                 \u001b[0mprocesse\u001b[0m\u001b[1;33m\u001b[0m\u001b[1;33m\u001b[0m\u001b[0m\n\u001b[0m",
      "\u001b[1;31mNameError\u001b[0m: name 'processe' is not defined"
     ]
    }
   ],
   "source": [
    "processed_data_02 = defaultdict(list)\n",
    "for compound in processed_data[\"Compound\"].unique():\n",
    "    subset = processed_data.loc[processed_data[\"Compound\"] == compound]\n",
    "    for study in processed_data.loc[processed_data[\"Compound\"] == compound][\"Study ID\"].unique():\n",
    "        results = subset[\"Result Raw\"].unique()\n",
    "        for result in processed_data.loc[(processed_data[\"Compound\"] == compound)&(processed_data[\"Study ID\"] == study)][\"Result Raw\"].unique():\n",
    "            for dose in processed_data.loc[(processed_data[\"Compound\"] == compound)&(processed_data[\"Study ID\"] == study)&(processed_data[\"Result Raw\"] == result)][\"Dose\"].unique():\n",
    "                subset = processed_data.loc[(processed_data[\"Compound\"] == compound)&(processed_data[\"Study ID\"] == study)&(processed_data[\"Result Raw\"] == result)&(processed_data[\"Dose\"] == dose)]\n",
    "                processed_data_02[\"Compound\"].append(compound)\n",
    "                processed_data_02[\"Study ID\"].append(study)\n",
    "                processed_data_02[\"Result Raw\"].append(result)\n",
    "                processed_data_02[\"Dose\"].append(dose)\n",
    "                processed_data_02[\"Dose-unit\"].append()"
   ]
  },
  {
   "attachments": {},
   "cell_type": "markdown",
   "metadata": {},
   "source": [
    "## Saving the output"
   ]
  },
  {
   "cell_type": "code",
   "execution_count": 11,
   "metadata": {},
   "outputs": [],
   "source": [
    "processed_data.to_csv(dataset_path[:-4] + \"_processed.csv\", index=False)"
   ]
  }
 ],
 "metadata": {
  "kernelspec": {
   "display_name": "base",
   "language": "python",
   "name": "python3"
  },
  "language_info": {
   "codemirror_mode": {
    "name": "ipython",
    "version": 3
   },
   "file_extension": ".py",
   "mimetype": "text/x-python",
   "name": "python",
   "nbconvert_exporter": "python",
   "pygments_lexer": "ipython3",
   "version": "3.9.13"
  },
  "orig_nbformat": 4,
  "vscode": {
   "interpreter": {
    "hash": "5e2a391089ec15c2228f2e9693fa2286dfab69fb2cc471869b2baee25e2252e4"
   }
  }
 },
 "nbformat": 4,
 "nbformat_minor": 2
}
